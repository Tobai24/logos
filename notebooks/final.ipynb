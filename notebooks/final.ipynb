{
 "cells": [
  {
   "cell_type": "code",
   "execution_count": 1,
   "id": "4dd7454c-bff8-44fd-b211-79f081362f71",
   "metadata": {},
   "outputs": [],
   "source": [
    "import json\n",
    "import minsearch\n",
    "import openai\n",
    "import pandas as pd\n",
    "from openai import OpenAI\n",
    "from tqdm.auto import tqdm"
   ]
  },
  {
   "cell_type": "code",
   "execution_count": 2,
   "id": "a7e3db1a-d1bf-49d5-a241-5210c1d1fc4d",
   "metadata": {},
   "outputs": [],
   "source": [
    "with open('/root/practice/logos/data/kjv.json', 'r') as f:\n",
    "    bible_json = json.load(f)"
   ]
  },
  {
   "cell_type": "code",
   "execution_count": 3,
   "id": "8bed8d5e-d974-44d5-b278-0473baff6ac7",
   "metadata": {},
   "outputs": [],
   "source": [
    "with open('/root/practice/logos/data/video_data.json', 'r') as f:\n",
    "    video_json = json.load(f)"
   ]
  },
  {
   "cell_type": "code",
   "execution_count": 4,
   "id": "d9273b31-3ea6-489b-9552-42dbd043d1fd",
   "metadata": {},
   "outputs": [],
   "source": [
    "bible = bible_json[\"verses\"]"
   ]
  },
  {
   "cell_type": "code",
   "execution_count": 22,
   "id": "cfe4e6b5-bd10-4c1c-86be-9ecee6bda929",
   "metadata": {},
   "outputs": [],
   "source": [
    "for document in bible:\n",
    "    for key, value in document.items():\n",
    "        document[key] = str(value)"
   ]
  },
  {
   "cell_type": "code",
   "execution_count": 23,
   "id": "7d745c8b-88a2-48b9-ac9a-896002a3bde2",
   "metadata": {},
   "outputs": [],
   "source": [
    "from elasticsearch import Elasticsearch\n",
    "es_client = Elasticsearch(\"http://localhost:9200\")"
   ]
  },
  {
   "cell_type": "code",
   "execution_count": 26,
   "id": "7410d224-c2a5-4725-9b12-27fef5f6ed05",
   "metadata": {},
   "outputs": [
    {
     "data": {
      "text/plain": [
       "ObjectApiResponse({'acknowledged': True, 'shards_acknowledged': True, 'index': 'final_db'})"
      ]
     },
     "execution_count": 26,
     "metadata": {},
     "output_type": "execute_result"
    }
   ],
   "source": [
    "index_settings = {\n",
    "    \"settings\": {\n",
    "        \"number_of_shards\": 1,\n",
    "        \"number_of_replicas\": 0\n",
    "    },\n",
    "    \"mappings\": { \n",
    "        \"properties\": {\n",
    "            # Fields for Bible verses\n",
    "            \"book\": { \"type\": \"text\" },  # Bible-specific field\n",
    "            \"book_name\": { \"type\": \"keyword\" },  # Bible-specific field\n",
    "            \"chapter\": { \"type\": \"text\" },  # Bible-specific field\n",
    "            \"verse\": { \"type\": \"text\" },  # Bible-specific field\n",
    "            \n",
    "            # Fields for YouTube transcripts\n",
    "            \"video_id\": { \"type\": \"keyword\" },  # Video-specific field\n",
    "            \"title\": { \"type\": \"text\" },  # Video-specific field\n",
    "            \"publish_date\": { \"type\": \"date\" },  # Video-specific field\n",
    "            \"author\": { \"type\": \"text\" },  # Video-specific field\n",
    "\n",
    "            # Common field for both types of documents\n",
    "            \"text\": { \"type\": \"text\" }  # Both Bible verses and video transcripts share this\n",
    "        }\n",
    "    }\n",
    "}\n",
    "\n",
    "index_name = \"final_db\"\n",
    "\n",
    "# Create the index\n",
    "es_client.indices.create(index=index_name, body=index_settings)"
   ]
  },
  {
   "cell_type": "code",
   "execution_count": 5,
   "id": "d0c99ba8-0677-46d6-9d56-5ec69a23508d",
   "metadata": {},
   "outputs": [],
   "source": [
    "documents = bible + video_json"
   ]
  },
  {
   "cell_type": "code",
   "execution_count": 6,
   "id": "bfcc9852",
   "metadata": {},
   "outputs": [],
   "source": [
    "with open(\"document.json\", 'w') as f_out:\n",
    "    json.dump(documents, f_out, indent=4)"
   ]
  },
  {
   "cell_type": "code",
   "execution_count": 28,
   "id": "8de3d7d6-62df-4d37-aafe-c7f3a7d6ba0f",
   "metadata": {},
   "outputs": [
    {
     "data": {
      "application/vnd.jupyter.widget-view+json": {
       "model_id": "af93b4207b304c0ca22e0943c03ffb52",
       "version_major": 2,
       "version_minor": 0
      },
      "text/plain": [
       "  0%|          | 0/36755 [00:00<?, ?it/s]"
      ]
     },
     "metadata": {},
     "output_type": "display_data"
    }
   ],
   "source": [
    "for doc in tqdm(documents):\n",
    "    # Ensure each document has the expected structure for indexing\n",
    "    if 'book_name' in doc:  # It's a Bible verse\n",
    "        # Prepare for indexing\n",
    "        es_client.index(index=index_name, document=doc)\n",
    "    elif 'video_id' in doc:  # It's a YouTube transcript\n",
    "        # Prepare for indexing\n",
    "        es_client.index(index=index_name, document=doc)"
   ]
  },
  {
   "cell_type": "code",
   "execution_count": 29,
   "id": "1fafde39-0b02-4648-9e44-3fa2b709d376",
   "metadata": {},
   "outputs": [],
   "source": [
    "def elastic_search(query):\n",
    "    search_query = {\n",
    "        \"size\": 5,\n",
    "        \"query\": {\n",
    "            \"bool\": {\n",
    "                \"should\": [  # Use 'should' to match either condition\n",
    "                    {\n",
    "                        \"multi_match\": {\n",
    "                            \"query\": query,\n",
    "                            \"fields\": [\"text^4\", \"book_name\", \"chapter\", \"verse\", \"book\"],\n",
    "                            \"type\": \"best_fields\"\n",
    "                        }\n",
    "                    },\n",
    "                    {\n",
    "                        \"multi_match\": {\n",
    "                            \"query\": query,\n",
    "                            \"fields\": [\"title\", \"text\", \"author\"],  # Fields for video transcripts\n",
    "                            \"type\": \"best_fields\"\n",
    "                        }\n",
    "                    }\n",
    "                ]\n",
    "            }\n",
    "        }\n",
    "    }\n",
    "\n",
    "    # Execute the search query\n",
    "    response = es_client.search(index=index_name, body=search_query)\n",
    "\n",
    "    result_docs = []\n",
    "    \n",
    "    # Collect the results from the hits\n",
    "    for hit in response['hits']['hits']:\n",
    "        result_docs.append(hit['_source'])\n",
    "\n",
    "    return result_docs"
   ]
  },
  {
   "cell_type": "code",
   "execution_count": 36,
   "id": "077a06a0-a8e9-4506-a388-922a8e5932c1",
   "metadata": {},
   "outputs": [],
   "source": [
    "def build_prompt(query, search_results):\n",
    "    context = \"\"\n",
    "    \n",
    "    for doc in search_results:\n",
    "        if 'book_name' in doc:  # This indicates it's a Bible verse\n",
    "            context += (\n",
    "                f\"Book: {doc['book_name']}\\n\"\n",
    "                f\"Chapter: {doc['chapter']}\\n\"\n",
    "                f\"Verse: {doc['verse']}\\n\"\n",
    "                f\"Text: {doc['text']}\\n\"\n",
    "            )\n",
    "        elif 'title' in doc:  # This indicates it's a YouTube transcript\n",
    "            context += (\n",
    "                f\"Video Title: {doc['title']}\\n\"\n",
    "                f\"Author: {doc['author']}\\n\"\n",
    "                f\"Published Date: {doc['publish_date']}\\n\"\n",
    "                f\"Transcript: {doc['text']}\\n\"\n",
    "            )\n",
    "    \n",
    "    prompt = f\"\"\"\n",
    "You are a knowledgeable Bible study assistant called \"Logos\". \n",
    "Your primary function is to provide accurate, insightful responses to users' questions about the Bible and related teachings. \n",
    "When answering a question, provide direct, scriptural answers and quote the relevant Bible verse(s) to support your response.\n",
    "If the answer is not available in the Bible or the resources at hand, kindly let the user know in a polite and friendly manner without referencing any internal systems or sources.\n",
    "\n",
    "Your tasks include:\n",
    "\n",
    "1. Answering Questions: When a user asks a question related to the Bible or its teachings, respond with a clear and concise answer rooted in scripture. Always include relevant Bible verses and chapter citations to support your answer (e.g., *Genesis 1:1*).\n",
    "\n",
    "2. Contextual Understanding: For any chapter or verse referenced, explain its significance within the Bible's broader narrative. Provide theological, historical, or cultural insights if applicable, and quote Bible verses to enrich the user's understanding.\n",
    "\n",
    "3. Life Situations: When responding to questions about real-life situations (e.g., advice for overcoming fear, forgiveness, or patience), offer practical applications of the scriptures. Always support your advice by quoting where it's written in the Bible.\n",
    "\n",
    "4. Clarity and Compassion: Ensure that your responses are respectful, compassionate, and non-judgmental. Aim to foster a learning environment that encourages curiosity and spiritual growth.\n",
    "\n",
    "5. Friendly Guidance: If the Bible or provided materials don't directly answer the user's question, kindly inform them with a friendly phrase such as, \"This specific answer may not be found in scripture, but you can explore related verses like...,\" and offer related suggestions.\n",
    "\n",
    "---\n",
    "\n",
    "QUESTION: {query}\n",
    "\n",
    "BIBLE REFERENCES: {context}\n",
    "\"\"\".strip()\n",
    "\n",
    "    return prompt"
   ]
  },
  {
   "cell_type": "code",
   "execution_count": 37,
   "id": "ae6296a6-9b46-4204-9759-0c6303c9e5ee",
   "metadata": {},
   "outputs": [],
   "source": [
    "def llm(prompt):\n",
    "    response = client.chat.completions.create(\n",
    "    model = 'gpt-4o-mini',\n",
    "    messages = [{\"role\": \"user\", \"content\": prompt}]\n",
    "    )\n",
    "    \n",
    "    return response.choices[0].message.content"
   ]
  },
  {
   "cell_type": "code",
   "execution_count": 38,
   "id": "c341a181-1076-479b-826b-2361df3f5359",
   "metadata": {},
   "outputs": [],
   "source": [
    "def rag(query):\n",
    "    search_result = elastic_search(query)\n",
    "    prompt = build_prompt(query, search_result)\n",
    "    answer = llm(prompt)\n",
    "    return answer"
   ]
  },
  {
   "cell_type": "code",
   "execution_count": 39,
   "id": "ddb3da5c-83c5-4afd-904b-1fbeb2ecb5a9",
   "metadata": {},
   "outputs": [],
   "source": [
    "client = OpenAI()"
   ]
  },
  {
   "cell_type": "code",
   "execution_count": 44,
   "id": "0d3883f8-ee3d-4915-ba99-48a12d2ad6fd",
   "metadata": {},
   "outputs": [
    {
     "data": {
      "text/plain": [
       "'Jesus connects anger with murder to highlight that both stem from a deeper issue related to valuing human life. In Matthew 5:21-22, He states, \"You have heard that it was said to the ancients, \\'You shall not commit murder.\\' And I say to you that everyone who is angry with his brother will be guilty in the court.\" By equating anger and verbal insults with murder, Jesus emphasizes that such feelings and actions reflect contempt and disregard for others, which is contrary to respecting them as beings created in the image of God.\\n\\nThis connection reveals that the root cause of murder (anger and hatred) is just as significant and detrimental in God\\'s sight. The teaching serves to challenge listeners to examine their hearts and attitudes toward others, suggesting that harboring anger can lead to behaviors that devalue another person\\'s life. Thus, Jesus calls His followers to recognize the weight of their words and emotions, ultimately encouraging them to cultivate respect and love for one another.'"
      ]
     },
     "execution_count": 44,
     "metadata": {},
     "output_type": "execute_result"
    }
   ],
   "source": [
    "rag(\"why did jesus connect anger with murder\")"
   ]
  }
 ],
 "metadata": {
  "kernelspec": {
   "display_name": "Python 3 (ipykernel)",
   "language": "python",
   "name": "python3"
  },
  "language_info": {
   "codemirror_mode": {
    "name": "ipython",
    "version": 3
   },
   "file_extension": ".py",
   "mimetype": "text/x-python",
   "name": "python",
   "nbconvert_exporter": "python",
   "pygments_lexer": "ipython3",
   "version": "3.12.3"
  }
 },
 "nbformat": 4,
 "nbformat_minor": 5
}
