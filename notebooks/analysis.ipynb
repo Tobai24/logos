{
 "cells": [
  {
   "cell_type": "code",
   "execution_count": 12,
   "id": "dc7786bb-2884-4ce8-a289-1e39c2294861",
   "metadata": {},
   "outputs": [],
   "source": [
    "import json\n",
    "import minsearch\n",
    "import openai\n",
    "import os\n",
    "from openai import OpenAI"
   ]
  },
  {
   "cell_type": "code",
   "execution_count": 2,
   "id": "bc3711b7-a7ad-4081-bacc-f851dddfae7d",
   "metadata": {},
   "outputs": [],
   "source": [
    "with open('/root/practice/logos/data/kjv.json', 'r') as f:\n",
    "    bible_json = json.load(f)"
   ]
  },
  {
   "cell_type": "code",
   "execution_count": 3,
   "id": "3d4f930d",
   "metadata": {},
   "outputs": [],
   "source": [
    "with open('/root/practice/logos/data/video_data.json', 'r') as f:\n",
    "    video_json = json.load(f)"
   ]
  },
  {
   "cell_type": "markdown",
   "id": "ddd7dde2-a1ce-41b4-9fd6-d898ddb51fcc",
   "metadata": {},
   "source": [
    "### The json file contains some meta data i do not think we would be needing i would use `data[\"verse\"]` to extract the relevant part of the json file "
   ]
  },
  {
   "cell_type": "code",
   "execution_count": 4,
   "id": "67c59ea1-0686-4c53-a142-1ec9b34e88ff",
   "metadata": {},
   "outputs": [],
   "source": [
    "documents = bible_json[\"verses\"]"
   ]
  },
  {
   "cell_type": "code",
   "execution_count": 5,
   "id": "0c9482cf-202c-4a4c-b11d-2446dbac27fd",
   "metadata": {},
   "outputs": [],
   "source": [
    "for document in documents:\n",
    "    for key, value in document.items():\n",
    "        document[key] = str(value)"
   ]
  },
  {
   "cell_type": "code",
   "execution_count": 6,
   "id": "04a442dc-d5e0-4f46-a8a7-b7fa933d9041",
   "metadata": {},
   "outputs": [],
   "source": [
    "index = minsearch.Index(\n",
    "    text_fields = [\"book\", \"chapter\", \"verse\", \"text\"],\n",
    "    keyword_fields = [\"book_name\"]\n",
    ")"
   ]
  },
  {
   "cell_type": "code",
   "execution_count": 7,
   "id": "bdbcd956-d251-419a-a1c4-50ad4660754f",
   "metadata": {},
   "outputs": [
    {
     "data": {
      "text/plain": [
       "<minsearch.Index at 0x7fc69186a7b0>"
      ]
     },
     "execution_count": 7,
     "metadata": {},
     "output_type": "execute_result"
    }
   ],
   "source": [
    "# Now pass it to index.fit\n",
    "index.fit(documents)"
   ]
  },
  {
   "cell_type": "code",
   "execution_count": 8,
   "id": "acf20a59-a78b-4815-bc5a-f97cd352e4f8",
   "metadata": {},
   "outputs": [],
   "source": [
    "boost = {\"text\": 5.0, \"book\" : 3.0}\n",
    "\n",
    "q = \"who is jesus\"\n",
    "\n",
    "results = index.search(\n",
    "    query = q,\n",
    "    boost_dict = boost,\n",
    "    num_results = 10\n",
    ")"
   ]
  },
  {
   "cell_type": "code",
   "execution_count": null,
   "id": "d42ab6d4-61df-473e-848f-11b75adf7af8",
   "metadata": {},
   "outputs": [],
   "source": [
    "client = OpenAI()"
   ]
  },
  {
   "cell_type": "code",
   "execution_count": 14,
   "id": "40ca645c-b2d2-4390-9d9b-75a3ea531b01",
   "metadata": {},
   "outputs": [],
   "source": [
    "def search(query):\n",
    "    boost = {\"text\": 5.0, \"book_name\" : 3.0}\n",
    "    \n",
    "    results = index.search(\n",
    "        query = query,\n",
    "        boost_dict = boost,\n",
    "        num_results = 10 )\n",
    "    return results"
   ]
  },
  {
   "cell_type": "code",
   "execution_count": 15,
   "id": "b307def9-b0c2-40b6-9058-c9751cf2510d",
   "metadata": {},
   "outputs": [],
   "source": [
    "def build_prompt(query, search_results):\n",
    "    context = \"\"\n",
    "    \n",
    "    for doc in search_results:\n",
    "        context = context + f\"Book: {doc['book_name']}\\n Chapter: {doc['chapter']}\\n Verse: {doc['verse']}\\n Text: {doc['text']}\\n\"\n",
    "        \n",
    "    prompt = f\"\"\"\n",
    "You are a knowledgeable Bible study assistant called \"Logos\" \n",
    "Your primary function is to provide accurate, insightful responses to users' questions about the Bible, offering contextual meaning for each chapter and verse. \n",
    "Answer the QUESTION based on the CONTEXT. use only the facts from the CONTEXT when answering the question.\n",
    "If the CONTEXT doesn't contain the answer, output NONE\n",
    "Be freindly like an assistant. you do not have to indicate that a context was given in your response\n",
    "\n",
    "Your tasks include:\n",
    "\n",
    "1. Answering Questions: When a user asks a question related to the Bible, respond with a clear and concise answer that is rooted in scripture. Provide relevant Bible verses to support your answer.\n",
    "\n",
    "2. Contextual Understanding: For any chapter or verse referenced, explain its significance in the context of the broader narrative of the Bible. This includes historical, cultural, and theological insights.\n",
    "\n",
    "3. Spiritual Guidance: Offer practical applications of the scriptures to help users navigate life situations. This could include advice based on biblical principles or encouragement through scripture.\n",
    "\n",
    "4. Clarity and Compassion: Ensure that your responses are respectful, compassionate, and non-judgmental. Aim to foster a learning environment that encourages curiosity and spiritual growth.\n",
    "\n",
    "5. Interactive Engagement: Encourage users to ask follow-up questions or seek clarification on topics they find challenging. Be patient and supportive in guiding them through their inquiries.\n",
    "\n",
    "---\n",
    "\n",
    "\n",
    "QUESTION: {query}\n",
    "\n",
    "CONTEXT: {context}\n",
    "\n",
    "\"\"\".strip()\n",
    "\n",
    "    return prompt"
   ]
  },
  {
   "cell_type": "code",
   "execution_count": 118,
   "id": "b7ee802f-ff71-4cb2-b2a5-0cef5e3cd176",
   "metadata": {},
   "outputs": [],
   "source": [
    "def llm(prompt):\n",
    "    response = client.chat.completions.create(\n",
    "    model = 'gpt-4o-mini',\n",
    "    messages = [{\"role\": \"user\", \"content\": prompt}]\n",
    "    )\n",
    "    \n",
    "    return response.choices[0].message.content"
   ]
  },
  {
   "cell_type": "code",
   "execution_count": 133,
   "id": "1b253c38-5ab4-4143-a26b-cdf49a726735",
   "metadata": {},
   "outputs": [],
   "source": [
    "def rag(query):\n",
    "    search_result = search(query)\n",
    "    prompt = build_prompt(query, search_result)\n",
    "    answer = llm(prompt)\n",
    "    return answer"
   ]
  },
  {
   "cell_type": "code",
   "execution_count": 138,
   "id": "47a365bc-850a-4ed5-b697-b6815bf120fe",
   "metadata": {},
   "outputs": [
    {
     "data": {
      "text/plain": [
       "'NONE'"
      ]
     },
     "execution_count": 138,
     "metadata": {},
     "output_type": "execute_result"
    }
   ],
   "source": [
    "rag(\"What is acceleration\")"
   ]
  }
 ],
 "metadata": {
  "kernelspec": {
   "display_name": "venv",
   "language": "python",
   "name": "python3"
  },
  "language_info": {
   "codemirror_mode": {
    "name": "ipython",
    "version": 3
   },
   "file_extension": ".py",
   "mimetype": "text/x-python",
   "name": "python",
   "nbconvert_exporter": "python",
   "pygments_lexer": "ipython3",
   "version": "3.12.3"
  }
 },
 "nbformat": 4,
 "nbformat_minor": 5
}
