{
 "cells": [
  {
   "cell_type": "code",
   "execution_count": 61,
   "id": "dc7786bb-2884-4ce8-a289-1e39c2294861",
   "metadata": {},
   "outputs": [],
   "source": [
    "import json\n",
    "import minsearch\n",
    "import openai\n",
    "from openai import OpenAI"
   ]
  },
  {
   "cell_type": "code",
   "execution_count": 21,
   "id": "bc3711b7-a7ad-4081-bacc-f851dddfae7d",
   "metadata": {},
   "outputs": [],
   "source": [
    "with open('/root/practice/logos/data/kjv.json', 'r') as f:\n",
    "    data = json.load(f)"
   ]
  },
  {
   "cell_type": "markdown",
   "id": "ddd7dde2-a1ce-41b4-9fd6-d898ddb51fcc",
   "metadata": {},
   "source": [
    "### The json file contains some meta data i do not think we would be needing i would use `data[\"verse\"]` to extract the relevant part of the json file "
   ]
  },
  {
   "cell_type": "code",
   "execution_count": 36,
   "id": "67c59ea1-0686-4c53-a142-1ec9b34e88ff",
   "metadata": {},
   "outputs": [],
   "source": [
    "documents = data[\"verses\"]"
   ]
  },
  {
   "cell_type": "code",
   "execution_count": 49,
   "id": "0c9482cf-202c-4a4c-b11d-2446dbac27fd",
   "metadata": {},
   "outputs": [],
   "source": [
    "for document in documents:\n",
    "    for key, value in document.items():\n",
    "        document[key] = str(value)"
   ]
  },
  {
   "cell_type": "code",
   "execution_count": 50,
   "id": "04a442dc-d5e0-4f46-a8a7-b7fa933d9041",
   "metadata": {},
   "outputs": [],
   "source": [
    "index = minsearch.Index(\n",
    "    text_fields = [\"book\", \"chapter\", \"verse\", \"text\"],\n",
    "    keyword_fields = [\"book_name\"]\n",
    ")"
   ]
  },
  {
   "cell_type": "code",
   "execution_count": 51,
   "id": "bdbcd956-d251-419a-a1c4-50ad4660754f",
   "metadata": {},
   "outputs": [
    {
     "data": {
      "text/plain": [
       "<minsearch.Index at 0x7ff836d70b00>"
      ]
     },
     "execution_count": 51,
     "metadata": {},
     "output_type": "execute_result"
    }
   ],
   "source": [
    "# Now pass it to index.fit\n",
    "index.fit(documents)"
   ]
  },
  {
   "cell_type": "code",
   "execution_count": 73,
   "id": "acf20a59-a78b-4815-bc5a-f97cd352e4f8",
   "metadata": {},
   "outputs": [],
   "source": [
    "boost = {\"text\": 5.0, \"book\" : 3.0}\n",
    "\n",
    "q = \"who is jesus\"\n",
    "\n",
    "results = index.search(\n",
    "    query = q,\n",
    "    boost_dict = boost,\n",
    "    num_results = 10\n",
    ")"
   ]
  },
  {
   "cell_type": "code",
   "execution_count": 74,
   "id": "4488e40b-36a9-4899-812c-939487adcd53",
   "metadata": {},
   "outputs": [
    {
     "data": {
      "text/plain": [
       "[{'book_name': 'Psalms',\n",
       "  'book': '19',\n",
       "  'chapter': '113',\n",
       "  'verse': '5',\n",
       "  'text': 'Who [is] like unto the LORD our God, who dwelleth on high,'},\n",
       " {'book_name': 'John',\n",
       "  'book': '43',\n",
       "  'chapter': '13',\n",
       "  'verse': '25',\n",
       "  'text': \"He then lying on Jesus' breast saith unto him, Lord, who is it?\"},\n",
       " {'book_name': 'Romans',\n",
       "  'book': '45',\n",
       "  'chapter': '8',\n",
       "  'verse': '34',\n",
       "  'text': 'Who [is] he that condemneth? [It is] Christ that died, yea rather, that is risen again, who is even at the right hand of God, who also maketh intercession for us.'},\n",
       " {'book_name': '1 John',\n",
       "  'book': '62',\n",
       "  'chapter': '5',\n",
       "  'verse': '5',\n",
       "  'text': 'Who is he that overcometh the world, but he that believeth that Jesus is the Son of God?'},\n",
       " {'book_name': '2 Samuel',\n",
       "  'book': '10',\n",
       "  'chapter': '22',\n",
       "  'verse': '32',\n",
       "  'text': 'For who [is] God, save the LORD? and who [is] a rock, save our God?'},\n",
       " {'book_name': 'Proverbs',\n",
       "  'book': '20',\n",
       "  'chapter': '23',\n",
       "  'verse': '29',\n",
       "  'text': '¶ Who hath woe? who hath sorrow? who hath contentions? who hath babbling? who hath wounds without cause? who hath redness of eyes?'},\n",
       " {'book_name': 'Psalms',\n",
       "  'book': '19',\n",
       "  'chapter': '18',\n",
       "  'verse': '31',\n",
       "  'text': 'For who [is] God save the LORD? or who [is] a rock save our God?'},\n",
       " {'book_name': 'Psalms',\n",
       "  'book': '19',\n",
       "  'chapter': '71',\n",
       "  'verse': '19',\n",
       "  'text': 'Thy righteousness also, O God, [is] very high, who hast done great things: O God, who [is] like unto thee!'},\n",
       " {'book_name': 'Luke',\n",
       "  'book': '42',\n",
       "  'chapter': '10',\n",
       "  'verse': '29',\n",
       "  'text': 'But he, willing to justify himself, said unto Jesus, And who is my neighbour?'},\n",
       " {'book_name': 'Matthew',\n",
       "  'book': '40',\n",
       "  'chapter': '12',\n",
       "  'verse': '48',\n",
       "  'text': 'But he answered and said unto him that told him, ‹Who is my mother? and who are my brethren?›'}]"
      ]
     },
     "execution_count": 74,
     "metadata": {},
     "output_type": "execute_result"
    }
   ],
   "source": [
    "results"
   ]
  },
  {
   "cell_type": "code",
   "execution_count": 64,
   "id": "d42ab6d4-61df-473e-848f-11b75adf7af8",
   "metadata": {},
   "outputs": [],
   "source": [
    "client = OpenAI()"
   ]
  },
  {
   "cell_type": "code",
   "execution_count": 135,
   "id": "40ca645c-b2d2-4390-9d9b-75a3ea531b01",
   "metadata": {},
   "outputs": [],
   "source": [
    "def search(query):\n",
    "    boost = {\"text\": 5.0, \"book_name\" : 3.0}\n",
    "    \n",
    "    results = index.search(\n",
    "        query = query,\n",
    "        boost_dict = boost,\n",
    "        num_results = 10 )\n",
    "    return results"
   ]
  },
  {
   "cell_type": "code",
   "execution_count": 113,
   "id": "b307def9-b0c2-40b6-9058-c9751cf2510d",
   "metadata": {},
   "outputs": [],
   "source": [
    "def build_prompt(query, search_results):\n",
    "    context = \"\"\n",
    "    \n",
    "    for doc in search_results:\n",
    "        context = context + f\"Book: {doc['book_name']}\\n Chapter: {doc['chapter']}\\n Verse: {doc['verse']}\\n Text: {doc['text']}\\n\"\n",
    "        \n",
    "    prompt = f\"\"\"\n",
    "You are a knowledgeable Bible study assistant called \"Logos\" \n",
    "Your primary function is to provide accurate, insightful responses to users' questions about the Bible, offering contextual meaning for each chapter and verse. \n",
    "Answer the QUESTION based on the CONTEXT. use only the facts from the CONTEXT when answering the question.\n",
    "If the CONTEXT doesn't contain the answer, output NONE\n",
    "Be freindly like an assistant. you do not have to indicate that a context was given in your response\n",
    "\n",
    "Your tasks include:\n",
    "\n",
    "1. Answering Questions: When a user asks a question related to the Bible, respond with a clear and concise answer that is rooted in scripture. Provide relevant Bible verses to support your answer.\n",
    "\n",
    "2. Contextual Understanding: For any chapter or verse referenced, explain its significance in the context of the broader narrative of the Bible. This includes historical, cultural, and theological insights.\n",
    "\n",
    "3. Spiritual Guidance: Offer practical applications of the scriptures to help users navigate life situations. This could include advice based on biblical principles or encouragement through scripture.\n",
    "\n",
    "4. Clarity and Compassion: Ensure that your responses are respectful, compassionate, and non-judgmental. Aim to foster a learning environment that encourages curiosity and spiritual growth.\n",
    "\n",
    "5. Interactive Engagement: Encourage users to ask follow-up questions or seek clarification on topics they find challenging. Be patient and supportive in guiding them through their inquiries.\n",
    "\n",
    "---\n",
    "\n",
    "\n",
    "QUESTION: {query}\n",
    "\n",
    "CONTEXT: {context}\n",
    "\n",
    "\"\"\".strip()\n",
    "\n",
    "    return prompt"
   ]
  },
  {
   "cell_type": "code",
   "execution_count": 118,
   "id": "b7ee802f-ff71-4cb2-b2a5-0cef5e3cd176",
   "metadata": {},
   "outputs": [],
   "source": [
    "def llm(prompt):\n",
    "    response = client.chat.completions.create(\n",
    "    model = 'gpt-4o-mini',\n",
    "    messages = [{\"role\": \"user\", \"content\": prompt}]\n",
    "    )\n",
    "    \n",
    "    return response.choices[0].message.content"
   ]
  },
  {
   "cell_type": "code",
   "execution_count": 133,
   "id": "1b253c38-5ab4-4143-a26b-cdf49a726735",
   "metadata": {},
   "outputs": [],
   "source": [
    "def rag(query):\n",
    "    search_result = search(query)\n",
    "    prompt = build_prompt(query, search_result)\n",
    "    answer = llm(prompt)\n",
    "    return answer"
   ]
  },
  {
   "cell_type": "code",
   "execution_count": 138,
   "id": "47a365bc-850a-4ed5-b697-b6815bf120fe",
   "metadata": {},
   "outputs": [
    {
     "data": {
      "text/plain": [
       "'NONE'"
      ]
     },
     "execution_count": 138,
     "metadata": {},
     "output_type": "execute_result"
    }
   ],
   "source": [
    "rag(\"What is acceleration\")"
   ]
  }
 ],
 "metadata": {
  "kernelspec": {
   "display_name": "venv",
   "language": "python",
   "name": "python3"
  },
  "language_info": {
   "codemirror_mode": {
    "name": "ipython",
    "version": 3
   },
   "file_extension": ".py",
   "mimetype": "text/x-python",
   "name": "python",
   "nbconvert_exporter": "python",
   "pygments_lexer": "ipython3",
   "version": "3.12.3"
  }
 },
 "nbformat": 4,
 "nbformat_minor": 5
}
