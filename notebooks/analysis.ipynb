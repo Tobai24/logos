{
 "cells": [
  {
   "cell_type": "code",
   "execution_count": 3,
   "id": "dc7786bb-2884-4ce8-a289-1e39c2294861",
   "metadata": {},
   "outputs": [],
   "source": [
    "import openai\n",
    "import os\n",
    "from openai import OpenAI"
   ]
  },
  {
   "cell_type": "code",
   "execution_count": 5,
   "id": "bc3711b7-a7ad-4081-bacc-f851dddfae7d",
   "metadata": {},
   "outputs": [],
   "source": [
    "client = OpenAI()"
   ]
  },
  {
   "cell_type": "code",
   "execution_count": 8,
   "id": "58a32762-d5b4-4c76-9c3c-38f123d4dee0",
   "metadata": {},
   "outputs": [
    {
     "data": {
      "text/plain": [
       "'In the context of large language models (LLMs) and natural language processing (NLP), the term \"RAG system\" usually refers to \"Retrieval-Augmented Generation.\" \\n\\nRetrieval-Augmented Generation is a technique that combines the strengths of two approaches: information retrieval and text generation. Here’s a brief overview of how it works:\\n\\n1. **Retrieval**: When the system receives a query, it first searches a large dataset or a database of documents to retrieve relevant information or passages. This part of the system is focused on identifying the most pertinent pieces of text that could help answer the query.\\n\\n2. **Augmented Generation**: After retrieving the relevant information, the system uses a generative model (like an LLM) to produce a coherent and contextually appropriate response. The generative model integrates the retrieved information to generate a response that is both informative and contextually relevant.\\n\\nThe RAG system is particularly effective in scenarios where the generative model alone might not have sufficient information to generate high-quality answers, but combining it with a retrieval system can make it more accurate and informative. It leverages large knowledge bases or documents to augment the generative capabilities, enhancing the overall performance.\\n\\nFor example, in a customer service bot, a RAG system could first search through a company\\'s knowledge base to find relevant articles and then use a language model to generate a nuanced and accurate response based on that information.\\n\\nIn summary, a RAG system in the context of LLMs is a hybrid approach that combines information retrieval with generative text production to create more accurate, informative, and contextually appropriate responses.'"
      ]
     },
     "execution_count": 8,
     "metadata": {},
     "output_type": "execute_result"
    }
   ],
   "source": [
    "response = client.chat.completions.create(\n",
    "    model = 'gpt-4o',\n",
    "    messages = [{\"role\":\"user\", \"content\": \"what is a RAG system in llm\" }]\n",
    ")\n",
    "\n",
    "response.choices[0].message.content"
   ]
  },
  {
   "cell_type": "code",
   "execution_count": null,
   "id": "67c59ea1-0686-4c53-a142-1ec9b34e88ff",
   "metadata": {},
   "outputs": [],
   "source": []
  }
 ],
 "metadata": {
  "kernelspec": {
   "display_name": "Python 3 (ipykernel)",
   "language": "python",
   "name": "python3"
  },
  "language_info": {
   "codemirror_mode": {
    "name": "ipython",
    "version": 3
   },
   "file_extension": ".py",
   "mimetype": "text/x-python",
   "name": "python",
   "nbconvert_exporter": "python",
   "pygments_lexer": "ipython3",
   "version": "3.12.3"
  }
 },
 "nbformat": 4,
 "nbformat_minor": 5
}
